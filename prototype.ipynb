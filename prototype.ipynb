{
 "cells": [
  {
   "cell_type": "code",
   "execution_count": 118,
   "id": "b7a93a08-462b-4508-83a0-581da394dc26",
   "metadata": {},
   "outputs": [],
   "source": [
    "# Import necessary libraries\n",
    "from pymongo import MongoClient\n",
    "from bson.objectid import ObjectId\n",
    "import json\n",
    "import re"
   ]
  },
  {
   "cell_type": "code",
   "execution_count": 120,
   "id": "a6196ee1-764e-42ed-b89c-5db0ddb33f27",
   "metadata": {},
   "outputs": [],
   "source": [
    "# Connect to the MongoDB database\n",
    "client = MongoClient('mongodb://localhost:27017/')\n",
    "db = client['emails']\n",
    "collection = db['complete_details']"
   ]
  },
  {
   "cell_type": "code",
   "execution_count": 545,
   "id": "b1426b5d-ff8c-4f60-ab0d-26010968d933",
   "metadata": {},
   "outputs": [],
   "source": [
    "# Specify which document to retrieve\n",
    "n = 5  # Change this number to retrieve different documents\n",
    "\n",
    "# Retrieve the document\n",
    "document = collection.find().skip(n - 1).limit(1)"
   ]
  },
  {
   "cell_type": "code",
   "execution_count": 547,
   "id": "e79c7a6c-93bb-4989-93ce-63efb91c8aa3",
   "metadata": {},
   "outputs": [],
   "source": [
    "# Initialize a variable to hold document details\n",
    "document_detail = \"\""
   ]
  },
  {
   "cell_type": "code",
   "execution_count": 549,
   "id": "f2213f74-cbb4-4054-ab43-b5c962ad69c5",
   "metadata": {},
   "outputs": [],
   "source": [
    "# Iterate through the document cursor\n",
    "for docs in document:\n",
    "    # Convert the document to a JSON string\n",
    "    document_detail = json.dumps(docs, default=str)"
   ]
  },
  {
   "cell_type": "code",
   "execution_count": 551,
   "id": "0a3ecbe0-8b61-48d4-a7ba-8a4b63c783dc",
   "metadata": {},
   "outputs": [
    {
     "name": "stdout",
     "output_type": "stream",
     "text": [
      "{\"_id\": \"6708a9fc2a972ccfae483e79\", \"file\": \"allen-p/_sent_mail/1001.\", \"message\": \"Message-ID: <30922949.1075863688243.JavaMail.evans@thyme>\\nDate: Thu, 31 Aug 2000 05:07:00 -0700 (PDT)\\nFrom: phillip.allen@enron.com\\nTo: greg.piper@enron.com\\nSubject: Re: Hello\\nMime-Version: 1.0\\nContent-Type: text/plain; charset=us-ascii\\nContent-Transfer-Encoding: 7bit\\nX-From: Phillip K Allen\\nX-To: Greg Piper\\nX-cc: \\nX-bcc: \\nX-Folder: \\\\Phillip_Allen_Dec2000\\\\Notes Folders\\\\'sent mail\\nX-Origin: Allen-P\\nX-FileName: pallen.nsf\\n\\nLet's shoot for Tuesday at 11:45.  \"}\n"
     ]
    }
   ],
   "source": [
    "print(document_detail)"
   ]
  },
  {
   "cell_type": "code",
   "execution_count": 553,
   "id": "969aaec2-a111-4945-9661-b9ffd43b8261",
   "metadata": {},
   "outputs": [
    {
     "name": "stdout",
     "output_type": "stream",
     "text": [
      "ID: 6708a9fc2a972ccfae483e79\n",
      "File: allen-p/_sent_mail/1001.\n",
      "Message:\n",
      "Message-ID: <30922949.1075863688243.JavaMail.evans@thyme>\n",
      "Date: Thu, 31 Aug 2000 05:07:00 -0700 (PDT)\n",
      "From: phillip.allen@enron.com\n",
      "To: greg.piper@enron.com\n",
      "Subject: Re: Hello\n",
      "Mime-Version: 1.0\n",
      "Content-Type: text/plain; charset=us-ascii\n",
      "Content-Transfer-Encoding: 7bit\n",
      "X-From: Phillip K Allen\n",
      "X-To: Greg Piper\n",
      "X-cc: \n",
      "X-bcc: \n",
      "X-Folder: \\Phillip_Allen_Dec2000\\Notes Folders\\'sent mail\n",
      "X-Origin: Allen-P\n",
      "X-FileName: pallen.nsf\n",
      "\n",
      "Let's shoot for Tuesday at 11:45.  \n"
     ]
    }
   ],
   "source": [
    "# Load JSON\n",
    "data = json.loads(document_detail)\n",
    "\n",
    "# Print the content in plain text format\n",
    "print(f\"ID: {data['_id']}\")\n",
    "print(f\"File: {data['file']}\")\n",
    "print(\"Message:\")\n",
    "print(data['message'].replace('\\\\n', '\\n'))"
   ]
  },
  {
   "cell_type": "code",
   "execution_count": 555,
   "id": "4183681e-619a-46af-b6f8-b547bbb9b6ce",
   "metadata": {},
   "outputs": [],
   "source": [
    "# Convert the JSON string to a dictionary\n",
    "data = json.loads(document_detail)\n",
    "\n",
    "# Extract the 'message' field\n",
    "message = data.get(\"message\", \"\")\n"
   ]
  },
  {
   "cell_type": "code",
   "execution_count": 557,
   "id": "6bd42bf9-4906-418c-bb74-33a100adf51e",
   "metadata": {},
   "outputs": [],
   "source": [
    "# Initialize a dictionary to hold the parsed fields\n",
    "parsed_data = {}\n",
    "\n",
    "# Define a regex pattern to find key-value pairs in the message\n",
    "pattern = re.compile(r'^([A-Za-z\\-]+):\\s*(.+)', re.MULTILINE)\n"
   ]
  },
  {
   "cell_type": "code",
   "execution_count": 559,
   "id": "6674aee1-2430-4df9-b8c6-589e0df9fce1",
   "metadata": {},
   "outputs": [],
   "source": [
    "# Find all matches and add them to the parsed_data dictionary\n",
    "for match in pattern.finditer(message):\n",
    "    key = match.group(1).strip()  # Extract the key\n",
    "    value = match.group(2).strip()  # Extract the value\n",
    "\n",
    "    # Add the key-value pair to the dictionary\n",
    "    if key in parsed_data:\n",
    "        # If the key already exists, convert it to a list if not already\n",
    "        if not isinstance(parsed_data[key], list):\n",
    "            parsed_data[key] = [parsed_data[key]]\n",
    "        parsed_data[key].append(value)  # Append the new value\n",
    "    else:\n",
    "        parsed_data[key] = value  # Add new key-value pair\n"
   ]
  },
  {
   "cell_type": "code",
   "execution_count": 561,
   "id": "214c7001-4263-48a2-a3c1-501bb587f978",
   "metadata": {},
   "outputs": [],
   "source": [
    "# Include other fields from the main document if necessary\n",
    "parsed_data['_id'] = data.get('_id', \"\")\n",
    "parsed_data['file'] = data.get('file', \"\")\n",
    "\n",
    "# Find the index of the first blank line to determine where the body starts\n",
    "body_start_index = message.find('\\n\\n')  # Look for the first occurrence of double newline\n",
    "\n",
    "if body_start_index != -1:\n",
    "    # Extract the body of the email, starting after the blank line\n",
    "    body = message[body_start_index + 2:].strip()  # Skip the blank line\n",
    "    parsed_data['Unstructured-Text'] = body  # Add the body as unstructured text\n",
    "else:\n",
    "    # If no blank line is found, set unstructured text as empty\n",
    "    parsed_data['Unstructured-Text'] = \"\"\n"
   ]
  },
  {
   "cell_type": "code",
   "execution_count": 563,
   "id": "c8c4b11b-99a6-4cfe-a1c9-6fcc573701ae",
   "metadata": {},
   "outputs": [
    {
     "name": "stdout",
     "output_type": "stream",
     "text": [
      "{'Message-ID': '<30922949.1075863688243.JavaMail.evans@thyme>', 'Date': 'Thu, 31 Aug 2000 05:07:00 -0700 (PDT)', 'From': 'phillip.allen@enron.com', 'To': 'greg.piper@enron.com', 'Subject': 'Re: Hello', 'Mime-Version': '1.0', 'Content-Type': 'text/plain; charset=us-ascii', 'Content-Transfer-Encoding': '7bit', 'X-From': 'Phillip K Allen', 'X-To': 'Greg Piper', 'X-cc': 'X-bcc:', 'X-Folder': \"\\\\Phillip_Allen_Dec2000\\\\Notes Folders\\\\'sent mail\", 'X-Origin': 'Allen-P', 'X-FileName': 'pallen.nsf', '_id': '6708a9fc2a972ccfae483e79', 'file': 'allen-p/_sent_mail/1001.', 'Unstructured-Text': \"Let's shoot for Tuesday at 11:45.\"}\n"
     ]
    }
   ],
   "source": [
    "# Print the parsed data as a dictionary\n",
    "print(parsed_data)\n"
   ]
  },
  {
   "cell_type": "code",
   "execution_count": 565,
   "id": "0957526c-a95a-4a8b-ad9f-92bc06d6e3af",
   "metadata": {},
   "outputs": [],
   "source": [
    "result_string = (\n",
    "    f\"\\nFrom: \\t {parsed_data['From']}\"\n",
    "    f\"\\nSubject: \\t {parsed_data['Subject']}\"\n",
    "    f\"\\nDate: \\t {parsed_data['Date']}\"\n",
    "    f\"\\nBody: \\t {parsed_data['Unstructured-Text']}\"\n",
    ")"
   ]
  },
  {
   "cell_type": "code",
   "execution_count": 567,
   "id": "0e3ffc4c-4a44-4406-b514-6abf3d2d339f",
   "metadata": {},
   "outputs": [
    {
     "name": "stdout",
     "output_type": "stream",
     "text": [
      "\n",
      "From: \t phillip.allen@enron.com\n",
      "Subject: \t Re: Hello\n",
      "Date: \t Thu, 31 Aug 2000 05:07:00 -0700 (PDT)\n",
      "Body: \t Let's shoot for Tuesday at 11:45.\n"
     ]
    }
   ],
   "source": [
    "print(result_string)"
   ]
  },
  {
   "cell_type": "code",
   "execution_count": null,
   "id": "23c3f28d-48cf-41c6-9949-dcf7684584bb",
   "metadata": {},
   "outputs": [],
   "source": []
  }
 ],
 "metadata": {
  "kernelspec": {
   "display_name": "Python 3 (ipykernel)",
   "language": "python",
   "name": "python3"
  },
  "language_info": {
   "codemirror_mode": {
    "name": "ipython",
    "version": 3
   },
   "file_extension": ".py",
   "mimetype": "text/x-python",
   "name": "python",
   "nbconvert_exporter": "python",
   "pygments_lexer": "ipython3",
   "version": "3.12.4"
  }
 },
 "nbformat": 4,
 "nbformat_minor": 5
}
